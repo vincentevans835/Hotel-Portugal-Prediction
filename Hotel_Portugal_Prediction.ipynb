{
 "cells": [
  {
   "cell_type": "markdown",
   "metadata": {},
   "source": [
    "## Latar Belakang\n",
    "\n",
    "Portugal merupakan salah satu negara yang terletak di ujung barat daya Eropa. Banyak wisatwan yang berkunjung ke portugal untuk berlibur, tapi ada juga yang berkunjung untuk urusan bisnis atau yang lain nya. Selama berkunjung pelanggan akan menginap di hotel. Karena banyak nya pengunjung yang memesan hotel, maka banyak pengunjung yang memesan hotel dari jauh hari. Namun setelah pemesanan banyak pelanggan yang tiba-tiba mengcancel pesanannya.\n",
    "\n",
    "Maka dalam kesempatan ini saya akan mencoba membuat sistem yang dapat memprediksi pelanggan mana yang akan cancel menggunakan machine learning"
   ]
  },
  {
   "cell_type": "code",
   "execution_count": 2,
   "metadata": {},
   "outputs": [],
   "source": [
    "import numpy as np\n",
    "import pandas as pd\n",
    "import matplotlib.pyplot as plt\n",
    "import seaborn as sns\n",
    "import category_encoders as ce\n",
    "from imblearn.over_sampling import RandomOverSampler,SMOTE\n",
    "from xgboost import XGBClassifier\n",
    "\n",
    "from sklearn.model_selection import train_test_split,cross_val_score,StratifiedKFold\n",
    "from sklearn.metrics import classification_report, f1_score, recall_score, precision_score,accuracy_score\n",
    "\n",
    "from sklearn.linear_model import LogisticRegression\n",
    "from sklearn.tree import DecisionTreeClassifier\n",
    "from sklearn.neighbors import KNeighborsClassifier\n",
    "from sklearn.ensemble import VotingClassifier,StackingClassifier,RandomForestClassifier\n",
    "\n",
    "from sklearn.impute import SimpleImputer\n",
    "from sklearn.preprocessing import OneHotEncoder,RobustScaler\n",
    "from sklearn.compose import ColumnTransformer\n",
    "from imblearn.pipeline import Pipeline\n",
    "\n",
    "import warnings\n",
    "warnings.filterwarnings('ignore')"
   ]
  },
  {
   "cell_type": "code",
   "execution_count": 3,
   "metadata": {},
   "outputs": [],
   "source": [
    "Data_Raw = pd.read_csv('hotel_bookings.csv')\n",
    "Data_1 = Data_Raw"
   ]
  },
  {
   "cell_type": "code",
   "execution_count": 4,
   "metadata": {},
   "outputs": [
    {
     "data": {
      "text/html": [
       "<div>\n",
       "<style scoped>\n",
       "    .dataframe tbody tr th:only-of-type {\n",
       "        vertical-align: middle;\n",
       "    }\n",
       "\n",
       "    .dataframe tbody tr th {\n",
       "        vertical-align: top;\n",
       "    }\n",
       "\n",
       "    .dataframe thead th {\n",
       "        text-align: right;\n",
       "    }\n",
       "</style>\n",
       "<table border=\"1\" class=\"dataframe\">\n",
       "  <thead>\n",
       "    <tr style=\"text-align: right;\">\n",
       "      <th></th>\n",
       "      <th>hotel</th>\n",
       "      <th>is_canceled</th>\n",
       "      <th>lead_time</th>\n",
       "      <th>arrival_date_year</th>\n",
       "      <th>arrival_date_month</th>\n",
       "      <th>arrival_date_week_number</th>\n",
       "      <th>arrival_date_day_of_month</th>\n",
       "      <th>stays_in_weekend_nights</th>\n",
       "      <th>stays_in_week_nights</th>\n",
       "      <th>adults</th>\n",
       "      <th>...</th>\n",
       "      <th>deposit_type</th>\n",
       "      <th>agent</th>\n",
       "      <th>company</th>\n",
       "      <th>days_in_waiting_list</th>\n",
       "      <th>customer_type</th>\n",
       "      <th>adr</th>\n",
       "      <th>required_car_parking_spaces</th>\n",
       "      <th>total_of_special_requests</th>\n",
       "      <th>reservation_status</th>\n",
       "      <th>reservation_status_date</th>\n",
       "    </tr>\n",
       "  </thead>\n",
       "  <tbody>\n",
       "    <tr>\n",
       "      <th>0</th>\n",
       "      <td>Resort Hotel</td>\n",
       "      <td>0</td>\n",
       "      <td>342</td>\n",
       "      <td>2015</td>\n",
       "      <td>July</td>\n",
       "      <td>27</td>\n",
       "      <td>1</td>\n",
       "      <td>0</td>\n",
       "      <td>0</td>\n",
       "      <td>2</td>\n",
       "      <td>...</td>\n",
       "      <td>No Deposit</td>\n",
       "      <td>NaN</td>\n",
       "      <td>NaN</td>\n",
       "      <td>0</td>\n",
       "      <td>Transient</td>\n",
       "      <td>0.0</td>\n",
       "      <td>0</td>\n",
       "      <td>0</td>\n",
       "      <td>Check-Out</td>\n",
       "      <td>2015-07-01</td>\n",
       "    </tr>\n",
       "    <tr>\n",
       "      <th>1</th>\n",
       "      <td>Resort Hotel</td>\n",
       "      <td>0</td>\n",
       "      <td>737</td>\n",
       "      <td>2015</td>\n",
       "      <td>July</td>\n",
       "      <td>27</td>\n",
       "      <td>1</td>\n",
       "      <td>0</td>\n",
       "      <td>0</td>\n",
       "      <td>2</td>\n",
       "      <td>...</td>\n",
       "      <td>No Deposit</td>\n",
       "      <td>NaN</td>\n",
       "      <td>NaN</td>\n",
       "      <td>0</td>\n",
       "      <td>Transient</td>\n",
       "      <td>0.0</td>\n",
       "      <td>0</td>\n",
       "      <td>0</td>\n",
       "      <td>Check-Out</td>\n",
       "      <td>2015-07-01</td>\n",
       "    </tr>\n",
       "    <tr>\n",
       "      <th>2</th>\n",
       "      <td>Resort Hotel</td>\n",
       "      <td>0</td>\n",
       "      <td>7</td>\n",
       "      <td>2015</td>\n",
       "      <td>July</td>\n",
       "      <td>27</td>\n",
       "      <td>1</td>\n",
       "      <td>0</td>\n",
       "      <td>1</td>\n",
       "      <td>1</td>\n",
       "      <td>...</td>\n",
       "      <td>No Deposit</td>\n",
       "      <td>NaN</td>\n",
       "      <td>NaN</td>\n",
       "      <td>0</td>\n",
       "      <td>Transient</td>\n",
       "      <td>75.0</td>\n",
       "      <td>0</td>\n",
       "      <td>0</td>\n",
       "      <td>Check-Out</td>\n",
       "      <td>2015-07-02</td>\n",
       "    </tr>\n",
       "    <tr>\n",
       "      <th>3</th>\n",
       "      <td>Resort Hotel</td>\n",
       "      <td>0</td>\n",
       "      <td>13</td>\n",
       "      <td>2015</td>\n",
       "      <td>July</td>\n",
       "      <td>27</td>\n",
       "      <td>1</td>\n",
       "      <td>0</td>\n",
       "      <td>1</td>\n",
       "      <td>1</td>\n",
       "      <td>...</td>\n",
       "      <td>No Deposit</td>\n",
       "      <td>304.0</td>\n",
       "      <td>NaN</td>\n",
       "      <td>0</td>\n",
       "      <td>Transient</td>\n",
       "      <td>75.0</td>\n",
       "      <td>0</td>\n",
       "      <td>0</td>\n",
       "      <td>Check-Out</td>\n",
       "      <td>2015-07-02</td>\n",
       "    </tr>\n",
       "    <tr>\n",
       "      <th>4</th>\n",
       "      <td>Resort Hotel</td>\n",
       "      <td>0</td>\n",
       "      <td>14</td>\n",
       "      <td>2015</td>\n",
       "      <td>July</td>\n",
       "      <td>27</td>\n",
       "      <td>1</td>\n",
       "      <td>0</td>\n",
       "      <td>2</td>\n",
       "      <td>2</td>\n",
       "      <td>...</td>\n",
       "      <td>No Deposit</td>\n",
       "      <td>240.0</td>\n",
       "      <td>NaN</td>\n",
       "      <td>0</td>\n",
       "      <td>Transient</td>\n",
       "      <td>98.0</td>\n",
       "      <td>0</td>\n",
       "      <td>1</td>\n",
       "      <td>Check-Out</td>\n",
       "      <td>2015-07-03</td>\n",
       "    </tr>\n",
       "  </tbody>\n",
       "</table>\n",
       "<p>5 rows × 32 columns</p>\n",
       "</div>"
      ],
      "text/plain": [
       "          hotel  is_canceled  lead_time  arrival_date_year arrival_date_month  \\\n",
       "0  Resort Hotel            0        342               2015               July   \n",
       "1  Resort Hotel            0        737               2015               July   \n",
       "2  Resort Hotel            0          7               2015               July   \n",
       "3  Resort Hotel            0         13               2015               July   \n",
       "4  Resort Hotel            0         14               2015               July   \n",
       "\n",
       "   arrival_date_week_number  arrival_date_day_of_month  \\\n",
       "0                        27                          1   \n",
       "1                        27                          1   \n",
       "2                        27                          1   \n",
       "3                        27                          1   \n",
       "4                        27                          1   \n",
       "\n",
       "   stays_in_weekend_nights  stays_in_week_nights  adults  ...  deposit_type  \\\n",
       "0                        0                     0       2  ...    No Deposit   \n",
       "1                        0                     0       2  ...    No Deposit   \n",
       "2                        0                     1       1  ...    No Deposit   \n",
       "3                        0                     1       1  ...    No Deposit   \n",
       "4                        0                     2       2  ...    No Deposit   \n",
       "\n",
       "   agent company days_in_waiting_list customer_type   adr  \\\n",
       "0    NaN     NaN                    0     Transient   0.0   \n",
       "1    NaN     NaN                    0     Transient   0.0   \n",
       "2    NaN     NaN                    0     Transient  75.0   \n",
       "3  304.0     NaN                    0     Transient  75.0   \n",
       "4  240.0     NaN                    0     Transient  98.0   \n",
       "\n",
       "   required_car_parking_spaces  total_of_special_requests  reservation_status  \\\n",
       "0                            0                          0           Check-Out   \n",
       "1                            0                          0           Check-Out   \n",
       "2                            0                          0           Check-Out   \n",
       "3                            0                          0           Check-Out   \n",
       "4                            0                          1           Check-Out   \n",
       "\n",
       "  reservation_status_date  \n",
       "0              2015-07-01  \n",
       "1              2015-07-01  \n",
       "2              2015-07-02  \n",
       "3              2015-07-02  \n",
       "4              2015-07-03  \n",
       "\n",
       "[5 rows x 32 columns]"
      ]
     },
     "execution_count": 4,
     "metadata": {},
     "output_type": "execute_result"
    }
   ],
   "source": [
    "Data_1.head()"
   ]
  },
  {
   "cell_type": "markdown",
   "metadata": {},
   "source": [
    "### Data Understanding\n",
    "\n",
    "Yang menjadi target (y) = is_canceled  dimana 1 adalah yang cancel pesanan dan 0 sebaliknya. untuk kasus ini fokus nya adalah yang cancel sehingga dalam pengunaan metrix lebih mengutamakan recall\n",
    "\n",
    "Yang menjadi Feature (x) = 'hotel','lead_time','country','market_segment',  \n",
    "'customer_type','days_in_waiting_list','booking_changes','previous_cancellations',  \n",
    "'previous_bookings_not_canceled',  'is_repeated_guest'"
   ]
  },
  {
   "cell_type": "markdown",
   "metadata": {},
   "source": [
    "### Data Processing"
   ]
  },
  {
   "cell_type": "code",
   "execution_count": 5,
   "metadata": {},
   "outputs": [
    {
     "data": {
      "text/plain": [
       "(119390, 32)"
      ]
     },
     "execution_count": 5,
     "metadata": {},
     "output_type": "execute_result"
    }
   ],
   "source": [
    "Data_1.shape"
   ]
  },
  {
   "cell_type": "markdown",
   "metadata": {},
   "source": [
    "Jumlah Kolom = 32  \n",
    "Jumlah Baris = 119390"
   ]
  },
  {
   "cell_type": "markdown",
   "metadata": {},
   "source": [
    "### Data Duplikat"
   ]
  },
  {
   "cell_type": "code",
   "execution_count": 6,
   "metadata": {},
   "outputs": [
    {
     "data": {
      "text/plain": [
       "(31994, 32)"
      ]
     },
     "execution_count": 6,
     "metadata": {},
     "output_type": "execute_result"
    }
   ],
   "source": [
    "Data_1[Data_1.duplicated()].shape"
   ]
  },
  {
   "cell_type": "markdown",
   "metadata": {},
   "source": [
    "terdapat 31994 data duplikat yang harus di drop karena jikat tidak drop akan membuat pemodelan menjadi bias"
   ]
  },
  {
   "cell_type": "code",
   "execution_count": 7,
   "metadata": {},
   "outputs": [],
   "source": [
    "Data_1 = Data_1[~Data_1.duplicated()]"
   ]
  },
  {
   "cell_type": "markdown",
   "metadata": {},
   "source": [
    "### Feature Selection"
   ]
  },
  {
   "cell_type": "code",
   "execution_count": 8,
   "metadata": {},
   "outputs": [],
   "source": [
    "feature = ['hotel','lead_time','country','market_segment','customer_type','days_in_waiting_list','booking_changes','previous_cancellations','previous_bookings_not_canceled','is_repeated_guest','is_canceled']\n",
    "Data_1 = Data_1[feature]"
   ]
  },
  {
   "cell_type": "markdown",
   "metadata": {},
   "source": [
    "### Data NAN"
   ]
  },
  {
   "cell_type": "code",
   "execution_count": 22,
   "metadata": {},
   "outputs": [
    {
     "data": {
      "text/plain": [
       "hotel                               0\n",
       "lead_time                           0\n",
       "country                           452\n",
       "market_segment                      0\n",
       "customer_type                       0\n",
       "days_in_waiting_list                0\n",
       "booking_changes                     0\n",
       "previous_cancellations              0\n",
       "previous_bookings_not_canceled      0\n",
       "is_repeated_guest                   0\n",
       "is_canceled                         0\n",
       "dtype: int64"
      ]
     },
     "execution_count": 22,
     "metadata": {},
     "output_type": "execute_result"
    }
   ],
   "source": [
    "Data_1.isna().sum()"
   ]
  },
  {
   "cell_type": "markdown",
   "metadata": {},
   "source": [
    "Di kolom country terdapat 452 data nan"
   ]
  },
  {
   "cell_type": "code",
   "execution_count": 23,
   "metadata": {},
   "outputs": [
    {
     "data": {
      "text/plain": [
       "country\n",
       "PRT    27453\n",
       "GBR    10433\n",
       "FRA     8837\n",
       "ESP     7252\n",
       "DEU     5387\n",
       "       ...  \n",
       "MMR        1\n",
       "BFA        1\n",
       "CYM        1\n",
       "MLI        1\n",
       "KHM        1\n",
       "Name: count, Length: 177, dtype: int64"
      ]
     },
     "execution_count": 23,
     "metadata": {},
     "output_type": "execute_result"
    }
   ],
   "source": [
    "Data_1['country'].value_counts()"
   ]
  },
  {
   "cell_type": "markdown",
   "metadata": {},
   "source": [
    "Karena mayoritas pelanggan berasal dari Portugal(PRT) maka data nan akan diisi dengan PRT"
   ]
  },
  {
   "cell_type": "code",
   "execution_count": 9,
   "metadata": {},
   "outputs": [],
   "source": [
    "Data_1['country'].fillna('PRT',inplace=True)"
   ]
  },
  {
   "cell_type": "code",
   "execution_count": 9,
   "metadata": {},
   "outputs": [
    {
     "data": {
      "text/plain": [
       "hotel                             0\n",
       "lead_time                         0\n",
       "country                           0\n",
       "market_segment                    0\n",
       "customer_type                     0\n",
       "days_in_waiting_list              0\n",
       "booking_changes                   0\n",
       "previous_cancellations            0\n",
       "previous_bookings_not_canceled    0\n",
       "is_repeated_guest                 0\n",
       "is_canceled                       0\n",
       "dtype: int64"
      ]
     },
     "execution_count": 9,
     "metadata": {},
     "output_type": "execute_result"
    }
   ],
   "source": [
    "Data_1.isna().sum()"
   ]
  },
  {
   "cell_type": "markdown",
   "metadata": {},
   "source": [
    "### Perbandingan Data"
   ]
  },
  {
   "cell_type": "code",
   "execution_count": 26,
   "metadata": {},
   "outputs": [
    {
     "data": {
      "text/plain": [
       "is_canceled\n",
       "0    63371\n",
       "1    24025\n",
       "Name: count, dtype: int64"
      ]
     },
     "metadata": {},
     "output_type": "display_data"
    },
    {
     "data": {
      "text/plain": [
       "is_canceled\n",
       "0    0.725102\n",
       "1    0.274898\n",
       "Name: count, dtype: float64"
      ]
     },
     "execution_count": 26,
     "metadata": {},
     "output_type": "execute_result"
    }
   ],
   "source": [
    "display(Data_1['is_canceled'].value_counts())\n",
    "Data_1['is_canceled'].value_counts()/len(Data_1)"
   ]
  },
  {
   "cell_type": "markdown",
   "metadata": {},
   "source": [
    "Terdapat ketidak seimbangan data antara yang 0 dan 1 sebesar 72/28 yang nanti untuk penangulangan nya bisa dilakukan resambling"
   ]
  },
  {
   "cell_type": "markdown",
   "metadata": {},
   "source": [
    "### Train Test Split"
   ]
  },
  {
   "cell_type": "code",
   "execution_count": 10,
   "metadata": {},
   "outputs": [],
   "source": [
    "X = Data_1.drop(\"is_canceled\",axis=1)\n",
    "y = Data_1['is_canceled']"
   ]
  },
  {
   "cell_type": "code",
   "execution_count": 11,
   "metadata": {},
   "outputs": [],
   "source": [
    "X_train,X_test,y_train,y_test = train_test_split(X,y,test_size=0.2,stratify=y,random_state=2)"
   ]
  },
  {
   "cell_type": "markdown",
   "metadata": {},
   "source": [
    "### PreProcess\n",
    "\n",
    "Untuk PreProcess data tools yang digunakan adalah:  \n",
    "1. One Hot Encode, Kolom yang digunakan untuk diencode adalah 'hotel'\n",
    "2. Binary Encode, Kolom yang digunakan untuk diencode adalah 'country','market_segment','customer_type'\n",
    "3. Robust Scaler, Kolom yang digunakan untuk diskaling adalah 'lead_time','days_in_waiting_list','booking_changes','previous_cancellations','previous_bookings_not_canceled'\n",
    "4. SMOTE, digunakan untuk oversampling data karena adanya imbalance data"
   ]
  },
  {
   "cell_type": "code",
   "execution_count": 12,
   "metadata": {},
   "outputs": [],
   "source": [
    "prepros = ColumnTransformer([\n",
    "    ('One Hot Encode',OneHotEncoder(drop='first'),['hotel']),\n",
    "    ('Binary Encode',ce.BinaryEncoder(),['country','market_segment','customer_type']),\n",
    "    ('Robust Scaler',RobustScaler(),['lead_time','days_in_waiting_list','booking_changes','previous_cancellations','previous_bookings_not_canceled'])\n",
    "],remainder='passthrough')"
   ]
  },
  {
   "cell_type": "code",
   "execution_count": 13,
   "metadata": {},
   "outputs": [],
   "source": [
    "oversample = SMOTE(random_state=42)"
   ]
  },
  {
   "cell_type": "markdown",
   "metadata": {},
   "source": [
    "### Modelling\n",
    "\n",
    "Algoritma yang digunakan:\n",
    "1. logistic regressi\n",
    "2. KNN\n",
    "3. Decision Tree\n",
    "4. Random Forest\n",
    "5. XGBoost\n",
    "6. Voting Classifier\n",
    "7. Stacking Classifier"
   ]
  },
  {
   "cell_type": "code",
   "execution_count": 14,
   "metadata": {},
   "outputs": [],
   "source": [
    "logreg = LogisticRegression(solver='liblinear')\n",
    "knn = KNeighborsClassifier(n_neighbors=25)\n",
    "tree = DecisionTreeClassifier(criterion='gini',max_depth=3)\n",
    "rf_classifier = RandomForestClassifier(n_estimators=100, random_state=42)\n",
    "XGB = XGBClassifier()"
   ]
  },
  {
   "cell_type": "code",
   "execution_count": 15,
   "metadata": {},
   "outputs": [],
   "source": [
    "# Voting Classifier\n",
    "\n",
    "vc_hard = VotingClassifier([\n",
    "    ('Logreg',logreg),\n",
    "    ('KNN',knn),\n",
    "    ('DTree',tree),\n",
    "    ('Random Forrest',rf_classifier),\n",
    "    ('XGB',XGB)\n",
    "],voting='hard')\n",
    "\n",
    "vc_soft = VotingClassifier([\n",
    "    ('Logreg',logreg),\n",
    "    ('KNN',knn),\n",
    "    ('DTree',tree),\n",
    "    ('Random Forrest',rf_classifier),\n",
    "    ('XGB',XGB)\n",
    "],voting='soft')"
   ]
  },
  {
   "cell_type": "code",
   "execution_count": 16,
   "metadata": {},
   "outputs": [],
   "source": [
    "# Stacking Classifier\n",
    "stacking = StackingClassifier([\n",
    "    ('Logreg',logreg),\n",
    "    ('KNN',knn),\n",
    "    ('DTree',tree),\n",
    "    ('Random Forrest',rf_classifier),\n",
    "    ('XGB',XGB)\n",
    "])"
   ]
  },
  {
   "cell_type": "markdown",
   "metadata": {},
   "source": [
    "### Model Benchmarking\n",
    "\n",
    "Di sini akan dilakukan benchmarking untuk membandingkan algorithm mana yang paling terbaik.  \n",
    "Algoritma terbaik itu lah yang nanti akan dikembangkan lebih lanjut untuk bisa mendapat hasil yang optimal"
   ]
  },
  {
   "cell_type": "code",
   "execution_count": 34,
   "metadata": {},
   "outputs": [],
   "source": [
    "model = [logreg,knn,tree,rf_classifier,XGB,vc_hard,vc_soft,stacking]\n",
    "\n",
    "skfold = StratifiedKFold(n_splits=5)\n",
    "\n",
    "score_acc = [] # list untuk mengimpan score accuracy dari setiap algoritma\n",
    "score_rec = [] # list untuk mengimpan score recall dari setiap algoritma\n",
    "score_f1 = [] # list untuk mengimpan score F1 dari setiap algoritma\n",
    "score_pre = [] # list untuk mengimpan score precision dari setiap algoritma\n",
    "\n",
    "\n",
    "for i in model:\n",
    "    pipeline = Pipeline([ # Di sini akan dibuat pipeline \n",
    "        ('Preprocessor', prepros), # Langkah pertama adalah preproses data\n",
    "        ('Sampling',oversample), # Langkah kedua adalah oversampling data\n",
    "        ('Model', i) # Langkah ketiga adalah pemodelan\n",
    "        ])\n",
    "    model_acc = cross_val_score(pipeline,X_train,y_train,cv = skfold, scoring='accuracy') # Disini akan dilakukan cross validasi yang akan mendapatkan nilai accuracy dari setiap algoritma\n",
    "    model_rec = cross_val_score(pipeline,X_train,y_train,cv = skfold, scoring='recall') # Disini akan dilakukan cross validasi yang akan mendapatkan nilai recall dari setiap algoritma\n",
    "    model_f1 = cross_val_score(pipeline,X_train,y_train,cv = skfold, scoring='f1') # Disini akan dilakukan cross validasi yang akan mendapatkan nilai F1 dari setiap algoritma\n",
    "    model_pre = cross_val_score(pipeline,X_train,y_train,cv = skfold, scoring='precision') # Disini akan dilakukan cross validasi yang akan mendapatkan nilai presicion dari setiap algoritma\n",
    "    score_acc.append(model_acc)\n",
    "    score_rec.append(model_rec)\n",
    "    score_f1.append(model_f1)\n",
    "    score_pre.append(model_pre)\n"
   ]
  },
  {
   "cell_type": "code",
   "execution_count": 35,
   "metadata": {},
   "outputs": [],
   "source": [
    "dfKfold = pd.DataFrame({\n",
    "    'Model': ['Logistic Regression','KNN','Decision Tree','Random Forrest','XGB','VC_hard','VC_soft','Stacking'],\n",
    "    'Avg Accuracy':[i.mean() for i in score_acc],\n",
    "    'Avg Recall':[i.mean() for i in score_rec],\n",
    "    'Avg Precision':[i.mean() for i in score_f1],\n",
    "    'Avg F1':[i.mean() for i in score_pre]\n",
    "}\n",
    ")"
   ]
  },
  {
   "cell_type": "code",
   "execution_count": 51,
   "metadata": {},
   "outputs": [
    {
     "data": {
      "text/html": [
       "<div>\n",
       "<style scoped>\n",
       "    .dataframe tbody tr th:only-of-type {\n",
       "        vertical-align: middle;\n",
       "    }\n",
       "\n",
       "    .dataframe tbody tr th {\n",
       "        vertical-align: top;\n",
       "    }\n",
       "\n",
       "    .dataframe thead th {\n",
       "        text-align: right;\n",
       "    }\n",
       "</style>\n",
       "<table border=\"1\" class=\"dataframe\">\n",
       "  <thead>\n",
       "    <tr style=\"text-align: right;\">\n",
       "      <th></th>\n",
       "      <th>Model</th>\n",
       "      <th>Avg Accuracy</th>\n",
       "      <th>Avg Recall</th>\n",
       "      <th>Avg Precision</th>\n",
       "      <th>Avg F1</th>\n",
       "    </tr>\n",
       "  </thead>\n",
       "  <tbody>\n",
       "    <tr>\n",
       "      <th>2</th>\n",
       "      <td>Decision Tree</td>\n",
       "      <td>0.607243</td>\n",
       "      <td>0.863163</td>\n",
       "      <td>0.547178</td>\n",
       "      <td>0.400585</td>\n",
       "    </tr>\n",
       "    <tr>\n",
       "      <th>4</th>\n",
       "      <td>XGB</td>\n",
       "      <td>0.708379</td>\n",
       "      <td>0.825338</td>\n",
       "      <td>0.608769</td>\n",
       "      <td>0.482267</td>\n",
       "    </tr>\n",
       "    <tr>\n",
       "      <th>5</th>\n",
       "      <td>VC_hard</td>\n",
       "      <td>0.716202</td>\n",
       "      <td>0.801717</td>\n",
       "      <td>0.608323</td>\n",
       "      <td>0.490151</td>\n",
       "    </tr>\n",
       "    <tr>\n",
       "      <th>6</th>\n",
       "      <td>VC_soft</td>\n",
       "      <td>0.728446</td>\n",
       "      <td>0.764984</td>\n",
       "      <td>0.607659</td>\n",
       "      <td>0.504048</td>\n",
       "    </tr>\n",
       "    <tr>\n",
       "      <th>1</th>\n",
       "      <td>KNN</td>\n",
       "      <td>0.714071</td>\n",
       "      <td>0.743600</td>\n",
       "      <td>0.588439</td>\n",
       "      <td>0.486877</td>\n",
       "    </tr>\n",
       "    <tr>\n",
       "      <th>7</th>\n",
       "      <td>Stacking</td>\n",
       "      <td>0.738901</td>\n",
       "      <td>0.702133</td>\n",
       "      <td>0.596511</td>\n",
       "      <td>0.518576</td>\n",
       "    </tr>\n",
       "    <tr>\n",
       "      <th>0</th>\n",
       "      <td>Logistic Regression</td>\n",
       "      <td>0.684593</td>\n",
       "      <td>0.693652</td>\n",
       "      <td>0.547345</td>\n",
       "      <td>0.452039</td>\n",
       "    </tr>\n",
       "    <tr>\n",
       "      <th>3</th>\n",
       "      <td>Random Forrest</td>\n",
       "      <td>0.732994</td>\n",
       "      <td>0.614204</td>\n",
       "      <td>0.558427</td>\n",
       "      <td>0.511959</td>\n",
       "    </tr>\n",
       "  </tbody>\n",
       "</table>\n",
       "</div>"
      ],
      "text/plain": [
       "                 Model  Avg Accuracy  Avg Recall  Avg Precision    Avg F1\n",
       "2        Decision Tree      0.607243    0.863163       0.547178  0.400585\n",
       "4                  XGB      0.708379    0.825338       0.608769  0.482267\n",
       "5              VC_hard      0.716202    0.801717       0.608323  0.490151\n",
       "6              VC_soft      0.728446    0.764984       0.607659  0.504048\n",
       "1                  KNN      0.714071    0.743600       0.588439  0.486877\n",
       "7             Stacking      0.738901    0.702133       0.596511  0.518576\n",
       "0  Logistic Regression      0.684593    0.693652       0.547345  0.452039\n",
       "3       Random Forrest      0.732994    0.614204       0.558427  0.511959"
      ]
     },
     "execution_count": 51,
     "metadata": {},
     "output_type": "execute_result"
    }
   ],
   "source": [
    "dfKfold1 = dfKfold\n",
    "dfKfold1.sort_values('Avg Recall',ascending=False) # untuk train test algoritma dengan recall tertinggi adalah Decision Tree dan XGB"
   ]
  },
  {
   "cell_type": "code",
   "execution_count": 37,
   "metadata": {},
   "outputs": [],
   "source": [
    "# Disini akan dilakukan benchmarking kembali untuk data test yang akan berfokus pada recall\n",
    "recall_1 = []\n",
    "for i in model:\n",
    "    pipa = Pipeline([\n",
    "        ('Preprocessor', prepros),\n",
    "        ('Model', i)\n",
    "        ])\n",
    "    pipa.fit(X_train,y_train)\n",
    "    y_predict = pipa.predict(X_test)\n",
    "    recall_1.append(recall_score(y_test,y_predict))\n",
    "\n",
    "recallDF = pd.DataFrame({\n",
    "    'Model':['Logistic Regression','KNN','Decision Tree','Random Forrest','XGB','VC_hard','VC_soft','Stacking'],\n",
    "    'Recall':recall_1,\n",
    "}\n",
    ")  "
   ]
  },
  {
   "cell_type": "code",
   "execution_count": 48,
   "metadata": {},
   "outputs": [
    {
     "data": {
      "text/html": [
       "<div>\n",
       "<style scoped>\n",
       "    .dataframe tbody tr th:only-of-type {\n",
       "        vertical-align: middle;\n",
       "    }\n",
       "\n",
       "    .dataframe tbody tr th {\n",
       "        vertical-align: top;\n",
       "    }\n",
       "\n",
       "    .dataframe thead th {\n",
       "        text-align: right;\n",
       "    }\n",
       "</style>\n",
       "<table border=\"1\" class=\"dataframe\">\n",
       "  <thead>\n",
       "    <tr style=\"text-align: right;\">\n",
       "      <th></th>\n",
       "      <th>Model</th>\n",
       "      <th>Recall</th>\n",
       "    </tr>\n",
       "  </thead>\n",
       "  <tbody>\n",
       "    <tr>\n",
       "      <th>3</th>\n",
       "      <td>Random Forrest</td>\n",
       "      <td>0.489490</td>\n",
       "    </tr>\n",
       "    <tr>\n",
       "      <th>7</th>\n",
       "      <td>Stacking</td>\n",
       "      <td>0.462643</td>\n",
       "    </tr>\n",
       "    <tr>\n",
       "      <th>4</th>\n",
       "      <td>XGB</td>\n",
       "      <td>0.445369</td>\n",
       "    </tr>\n",
       "    <tr>\n",
       "      <th>1</th>\n",
       "      <td>KNN</td>\n",
       "      <td>0.435172</td>\n",
       "    </tr>\n",
       "    <tr>\n",
       "      <th>6</th>\n",
       "      <td>VC_soft</td>\n",
       "      <td>0.397503</td>\n",
       "    </tr>\n",
       "    <tr>\n",
       "      <th>5</th>\n",
       "      <td>VC_hard</td>\n",
       "      <td>0.371072</td>\n",
       "    </tr>\n",
       "    <tr>\n",
       "      <th>0</th>\n",
       "      <td>Logistic Regression</td>\n",
       "      <td>0.280541</td>\n",
       "    </tr>\n",
       "    <tr>\n",
       "      <th>2</th>\n",
       "      <td>Decision Tree</td>\n",
       "      <td>0.004579</td>\n",
       "    </tr>\n",
       "  </tbody>\n",
       "</table>\n",
       "</div>"
      ],
      "text/plain": [
       "                 Model    Recall\n",
       "3       Random Forrest  0.489490\n",
       "7             Stacking  0.462643\n",
       "4                  XGB  0.445369\n",
       "1                  KNN  0.435172\n",
       "6              VC_soft  0.397503\n",
       "5              VC_hard  0.371072\n",
       "0  Logistic Regression  0.280541\n",
       "2        Decision Tree  0.004579"
      ]
     },
     "execution_count": 48,
     "metadata": {},
     "output_type": "execute_result"
    }
   ],
   "source": [
    "recallDF.sort_values('Recall',ascending=False) \n",
    "# untuk data test, algoritma Random Forrest adalah yang terbaik sehingga untuk proses tuning akan fokus pada kedua algoritma"
   ]
  },
  {
   "cell_type": "markdown",
   "metadata": {},
   "source": [
    "### Uji Pengembangan Random Forrest\n",
    "\n",
    "1. Uji criterion"
   ]
  },
  {
   "cell_type": "code",
   "execution_count": 17,
   "metadata": {},
   "outputs": [
    {
     "name": "stdout",
     "output_type": "stream",
     "text": [
      "gini\n",
      "              precision    recall  f1-score   support\n",
      "\n",
      "           0       0.82      0.86      0.84     12675\n",
      "           1       0.57      0.49      0.53      4805\n",
      "\n",
      "    accuracy                           0.76     17480\n",
      "   macro avg       0.69      0.68      0.68     17480\n",
      "weighted avg       0.75      0.76      0.75     17480\n",
      "\n",
      "entropy\n",
      "              precision    recall  f1-score   support\n",
      "\n",
      "           0       0.82      0.86      0.84     12675\n",
      "           1       0.57      0.49      0.53      4805\n",
      "\n",
      "    accuracy                           0.76     17480\n",
      "   macro avg       0.69      0.67      0.68     17480\n",
      "weighted avg       0.75      0.76      0.75     17480\n",
      "\n",
      "log_loss\n",
      "              precision    recall  f1-score   support\n",
      "\n",
      "           0       0.82      0.86      0.84     12675\n",
      "           1       0.57      0.49      0.53      4805\n",
      "\n",
      "    accuracy                           0.76     17480\n",
      "   macro avg       0.69      0.67      0.68     17480\n",
      "weighted avg       0.75      0.76      0.75     17480\n",
      "\n"
     ]
    }
   ],
   "source": [
    "entro = ['gini','entropy', 'log_loss']\n",
    "hasil_rf = []\n",
    "for i in entro:\n",
    "        random_forest = Pipeline([\n",
    "                ('Preprocessor', prepros),\n",
    "                ('Model', RandomForestClassifier(criterion=i))\n",
    "                ])\n",
    "        random_forest.fit(X_train,y_train)\n",
    "        y_predict = random_forest.predict(X_test)\n",
    "        print(i)\n",
    "        print(classification_report(y_test,y_predict))"
   ]
  },
  {
   "cell_type": "markdown",
   "metadata": {},
   "source": [
    "### Kesimpulan Criterion\n",
    "Ditemukan dari percobaan untuk setiap ketiga criterion, nilai recall tidak mengalami perubahan  "
   ]
  },
  {
   "cell_type": "markdown",
   "metadata": {},
   "source": [
    "------\n",
    "## Kesimpulan Akhir\n",
    "\n",
    "Ditemukan bahwa untuk memprediksi pelanggan yang akan mengcancel pemesanan hotel lebih sulit dari pada yang tidak mengcancel yang disebabkan adanya imbalance data antara yang tidak cancel dan cancel sebesar 72/28. Setelah melakukan bencmarking dan tunning pun didapatkan kemampuan model untuk memperediksi yang cancel hanya sebesar 49% atau recall sebesar = 0.49 dimana recall berfokus pada ketepatan model memperediksi nilai 1 atau cancel"
   ]
  },
  {
   "cell_type": "markdown",
   "metadata": {},
   "source": [
    "-----\n",
    "## Uji Coba\n",
    "\n",
    "Kali ini akan mencoba dengan dataset baru untuk memperediksi apakah pelanggan akan cancel atau tidak"
   ]
  },
  {
   "cell_type": "code",
   "execution_count": 22,
   "metadata": {},
   "outputs": [
    {
     "data": {
      "text/plain": [
       "'is_canceled'"
      ]
     },
     "execution_count": 22,
     "metadata": {},
     "output_type": "execute_result"
    }
   ],
   "source": [
    "feature.pop()"
   ]
  },
  {
   "cell_type": "code",
   "execution_count": 24,
   "metadata": {},
   "outputs": [],
   "source": [
    "Data_baru = pd.read_csv('Data Baru - Train Dataset.csv')\n",
    "Data_baru = Data_baru[feature]"
   ]
  },
  {
   "cell_type": "code",
   "execution_count": 25,
   "metadata": {},
   "outputs": [
    {
     "data": {
      "text/html": [
       "<div>\n",
       "<style scoped>\n",
       "    .dataframe tbody tr th:only-of-type {\n",
       "        vertical-align: middle;\n",
       "    }\n",
       "\n",
       "    .dataframe tbody tr th {\n",
       "        vertical-align: top;\n",
       "    }\n",
       "\n",
       "    .dataframe thead th {\n",
       "        text-align: right;\n",
       "    }\n",
       "</style>\n",
       "<table border=\"1\" class=\"dataframe\">\n",
       "  <thead>\n",
       "    <tr style=\"text-align: right;\">\n",
       "      <th></th>\n",
       "      <th>hotel</th>\n",
       "      <th>lead_time</th>\n",
       "      <th>country</th>\n",
       "      <th>market_segment</th>\n",
       "      <th>customer_type</th>\n",
       "      <th>days_in_waiting_list</th>\n",
       "      <th>booking_changes</th>\n",
       "      <th>previous_cancellations</th>\n",
       "      <th>previous_bookings_not_canceled</th>\n",
       "      <th>is_repeated_guest</th>\n",
       "    </tr>\n",
       "  </thead>\n",
       "  <tbody>\n",
       "    <tr>\n",
       "      <th>0</th>\n",
       "      <td>Resort Hotel</td>\n",
       "      <td>342</td>\n",
       "      <td>PRT</td>\n",
       "      <td>Direct</td>\n",
       "      <td>Transient</td>\n",
       "      <td>0</td>\n",
       "      <td>3</td>\n",
       "      <td>0</td>\n",
       "      <td>0</td>\n",
       "      <td>0</td>\n",
       "    </tr>\n",
       "    <tr>\n",
       "      <th>1</th>\n",
       "      <td>Resort Hotel</td>\n",
       "      <td>737</td>\n",
       "      <td>PRT</td>\n",
       "      <td>Direct</td>\n",
       "      <td>Transient</td>\n",
       "      <td>0</td>\n",
       "      <td>4</td>\n",
       "      <td>0</td>\n",
       "      <td>0</td>\n",
       "      <td>0</td>\n",
       "    </tr>\n",
       "    <tr>\n",
       "      <th>2</th>\n",
       "      <td>Resort Hotel</td>\n",
       "      <td>7</td>\n",
       "      <td>GBR</td>\n",
       "      <td>Direct</td>\n",
       "      <td>Transient</td>\n",
       "      <td>0</td>\n",
       "      <td>0</td>\n",
       "      <td>0</td>\n",
       "      <td>0</td>\n",
       "      <td>0</td>\n",
       "    </tr>\n",
       "    <tr>\n",
       "      <th>3</th>\n",
       "      <td>Resort Hotel</td>\n",
       "      <td>13</td>\n",
       "      <td>GBR</td>\n",
       "      <td>Corporate</td>\n",
       "      <td>Transient</td>\n",
       "      <td>0</td>\n",
       "      <td>0</td>\n",
       "      <td>0</td>\n",
       "      <td>0</td>\n",
       "      <td>0</td>\n",
       "    </tr>\n",
       "    <tr>\n",
       "      <th>4</th>\n",
       "      <td>Resort Hotel</td>\n",
       "      <td>14</td>\n",
       "      <td>GBR</td>\n",
       "      <td>Online TA</td>\n",
       "      <td>Transient</td>\n",
       "      <td>0</td>\n",
       "      <td>0</td>\n",
       "      <td>0</td>\n",
       "      <td>0</td>\n",
       "      <td>0</td>\n",
       "    </tr>\n",
       "    <tr>\n",
       "      <th>...</th>\n",
       "      <td>...</td>\n",
       "      <td>...</td>\n",
       "      <td>...</td>\n",
       "      <td>...</td>\n",
       "      <td>...</td>\n",
       "      <td>...</td>\n",
       "      <td>...</td>\n",
       "      <td>...</td>\n",
       "      <td>...</td>\n",
       "      <td>...</td>\n",
       "    </tr>\n",
       "    <tr>\n",
       "      <th>1936</th>\n",
       "      <td>Resort Hotel</td>\n",
       "      <td>114</td>\n",
       "      <td>PRT</td>\n",
       "      <td>Groups</td>\n",
       "      <td>Contract</td>\n",
       "      <td>0</td>\n",
       "      <td>0</td>\n",
       "      <td>0</td>\n",
       "      <td>0</td>\n",
       "      <td>0</td>\n",
       "    </tr>\n",
       "    <tr>\n",
       "      <th>1937</th>\n",
       "      <td>Resort Hotel</td>\n",
       "      <td>114</td>\n",
       "      <td>PRT</td>\n",
       "      <td>Groups</td>\n",
       "      <td>Transient</td>\n",
       "      <td>0</td>\n",
       "      <td>0</td>\n",
       "      <td>0</td>\n",
       "      <td>0</td>\n",
       "      <td>0</td>\n",
       "    </tr>\n",
       "    <tr>\n",
       "      <th>1938</th>\n",
       "      <td>Resort Hotel</td>\n",
       "      <td>0</td>\n",
       "      <td>PRT</td>\n",
       "      <td>Groups</td>\n",
       "      <td>Transient</td>\n",
       "      <td>0</td>\n",
       "      <td>0</td>\n",
       "      <td>0</td>\n",
       "      <td>0</td>\n",
       "      <td>0</td>\n",
       "    </tr>\n",
       "    <tr>\n",
       "      <th>1939</th>\n",
       "      <td>Resort Hotel</td>\n",
       "      <td>7</td>\n",
       "      <td>PRT</td>\n",
       "      <td>Corporate</td>\n",
       "      <td>Transient</td>\n",
       "      <td>0</td>\n",
       "      <td>0</td>\n",
       "      <td>0</td>\n",
       "      <td>0</td>\n",
       "      <td>0</td>\n",
       "    </tr>\n",
       "    <tr>\n",
       "      <th>1940</th>\n",
       "      <td>Resort Hotel</td>\n",
       "      <td>63</td>\n",
       "      <td>PRT</td>\n",
       "      <td>Direct</td>\n",
       "      <td>Transient</td>\n",
       "      <td>0</td>\n",
       "      <td>0</td>\n",
       "      <td>0</td>\n",
       "      <td>0</td>\n",
       "      <td>0</td>\n",
       "    </tr>\n",
       "  </tbody>\n",
       "</table>\n",
       "<p>1941 rows × 10 columns</p>\n",
       "</div>"
      ],
      "text/plain": [
       "             hotel  lead_time country market_segment customer_type  \\\n",
       "0     Resort Hotel        342     PRT         Direct     Transient   \n",
       "1     Resort Hotel        737     PRT         Direct     Transient   \n",
       "2     Resort Hotel          7     GBR         Direct     Transient   \n",
       "3     Resort Hotel         13     GBR      Corporate     Transient   \n",
       "4     Resort Hotel         14     GBR      Online TA     Transient   \n",
       "...            ...        ...     ...            ...           ...   \n",
       "1936  Resort Hotel        114     PRT         Groups      Contract   \n",
       "1937  Resort Hotel        114     PRT         Groups     Transient   \n",
       "1938  Resort Hotel          0     PRT         Groups     Transient   \n",
       "1939  Resort Hotel          7     PRT      Corporate     Transient   \n",
       "1940  Resort Hotel         63     PRT         Direct     Transient   \n",
       "\n",
       "      days_in_waiting_list  booking_changes  previous_cancellations  \\\n",
       "0                        0                3                       0   \n",
       "1                        0                4                       0   \n",
       "2                        0                0                       0   \n",
       "3                        0                0                       0   \n",
       "4                        0                0                       0   \n",
       "...                    ...              ...                     ...   \n",
       "1936                     0                0                       0   \n",
       "1937                     0                0                       0   \n",
       "1938                     0                0                       0   \n",
       "1939                     0                0                       0   \n",
       "1940                     0                0                       0   \n",
       "\n",
       "      previous_bookings_not_canceled  is_repeated_guest  \n",
       "0                                  0                  0  \n",
       "1                                  0                  0  \n",
       "2                                  0                  0  \n",
       "3                                  0                  0  \n",
       "4                                  0                  0  \n",
       "...                              ...                ...  \n",
       "1936                               0                  0  \n",
       "1937                               0                  0  \n",
       "1938                               0                  0  \n",
       "1939                               0                  0  \n",
       "1940                               0                  0  \n",
       "\n",
       "[1941 rows x 10 columns]"
      ]
     },
     "execution_count": 25,
     "metadata": {},
     "output_type": "execute_result"
    }
   ],
   "source": [
    "Data_baru"
   ]
  },
  {
   "cell_type": "code",
   "execution_count": 26,
   "metadata": {},
   "outputs": [],
   "source": [
    "y_predict = random_forest.predict(Data_baru)"
   ]
  },
  {
   "cell_type": "code",
   "execution_count": 28,
   "metadata": {},
   "outputs": [
    {
     "data": {
      "text/html": [
       "<div>\n",
       "<style scoped>\n",
       "    .dataframe tbody tr th:only-of-type {\n",
       "        vertical-align: middle;\n",
       "    }\n",
       "\n",
       "    .dataframe tbody tr th {\n",
       "        vertical-align: top;\n",
       "    }\n",
       "\n",
       "    .dataframe thead th {\n",
       "        text-align: right;\n",
       "    }\n",
       "</style>\n",
       "<table border=\"1\" class=\"dataframe\">\n",
       "  <thead>\n",
       "    <tr style=\"text-align: right;\">\n",
       "      <th></th>\n",
       "      <th>hotel</th>\n",
       "      <th>lead_time</th>\n",
       "      <th>country</th>\n",
       "      <th>market_segment</th>\n",
       "      <th>customer_type</th>\n",
       "      <th>days_in_waiting_list</th>\n",
       "      <th>booking_changes</th>\n",
       "      <th>previous_cancellations</th>\n",
       "      <th>previous_bookings_not_canceled</th>\n",
       "      <th>is_repeated_guest</th>\n",
       "      <th>is_canceled</th>\n",
       "    </tr>\n",
       "  </thead>\n",
       "  <tbody>\n",
       "    <tr>\n",
       "      <th>0</th>\n",
       "      <td>Resort Hotel</td>\n",
       "      <td>342</td>\n",
       "      <td>PRT</td>\n",
       "      <td>Direct</td>\n",
       "      <td>Transient</td>\n",
       "      <td>0</td>\n",
       "      <td>3</td>\n",
       "      <td>0</td>\n",
       "      <td>0</td>\n",
       "      <td>0</td>\n",
       "      <td>0</td>\n",
       "    </tr>\n",
       "    <tr>\n",
       "      <th>1</th>\n",
       "      <td>Resort Hotel</td>\n",
       "      <td>737</td>\n",
       "      <td>PRT</td>\n",
       "      <td>Direct</td>\n",
       "      <td>Transient</td>\n",
       "      <td>0</td>\n",
       "      <td>4</td>\n",
       "      <td>0</td>\n",
       "      <td>0</td>\n",
       "      <td>0</td>\n",
       "      <td>0</td>\n",
       "    </tr>\n",
       "    <tr>\n",
       "      <th>2</th>\n",
       "      <td>Resort Hotel</td>\n",
       "      <td>7</td>\n",
       "      <td>GBR</td>\n",
       "      <td>Direct</td>\n",
       "      <td>Transient</td>\n",
       "      <td>0</td>\n",
       "      <td>0</td>\n",
       "      <td>0</td>\n",
       "      <td>0</td>\n",
       "      <td>0</td>\n",
       "      <td>0</td>\n",
       "    </tr>\n",
       "    <tr>\n",
       "      <th>3</th>\n",
       "      <td>Resort Hotel</td>\n",
       "      <td>13</td>\n",
       "      <td>GBR</td>\n",
       "      <td>Corporate</td>\n",
       "      <td>Transient</td>\n",
       "      <td>0</td>\n",
       "      <td>0</td>\n",
       "      <td>0</td>\n",
       "      <td>0</td>\n",
       "      <td>0</td>\n",
       "      <td>0</td>\n",
       "    </tr>\n",
       "    <tr>\n",
       "      <th>4</th>\n",
       "      <td>Resort Hotel</td>\n",
       "      <td>14</td>\n",
       "      <td>GBR</td>\n",
       "      <td>Online TA</td>\n",
       "      <td>Transient</td>\n",
       "      <td>0</td>\n",
       "      <td>0</td>\n",
       "      <td>0</td>\n",
       "      <td>0</td>\n",
       "      <td>0</td>\n",
       "      <td>0</td>\n",
       "    </tr>\n",
       "    <tr>\n",
       "      <th>...</th>\n",
       "      <td>...</td>\n",
       "      <td>...</td>\n",
       "      <td>...</td>\n",
       "      <td>...</td>\n",
       "      <td>...</td>\n",
       "      <td>...</td>\n",
       "      <td>...</td>\n",
       "      <td>...</td>\n",
       "      <td>...</td>\n",
       "      <td>...</td>\n",
       "      <td>...</td>\n",
       "    </tr>\n",
       "    <tr>\n",
       "      <th>1936</th>\n",
       "      <td>Resort Hotel</td>\n",
       "      <td>114</td>\n",
       "      <td>PRT</td>\n",
       "      <td>Groups</td>\n",
       "      <td>Contract</td>\n",
       "      <td>0</td>\n",
       "      <td>0</td>\n",
       "      <td>0</td>\n",
       "      <td>0</td>\n",
       "      <td>0</td>\n",
       "      <td>0</td>\n",
       "    </tr>\n",
       "    <tr>\n",
       "      <th>1937</th>\n",
       "      <td>Resort Hotel</td>\n",
       "      <td>114</td>\n",
       "      <td>PRT</td>\n",
       "      <td>Groups</td>\n",
       "      <td>Transient</td>\n",
       "      <td>0</td>\n",
       "      <td>0</td>\n",
       "      <td>0</td>\n",
       "      <td>0</td>\n",
       "      <td>0</td>\n",
       "      <td>1</td>\n",
       "    </tr>\n",
       "    <tr>\n",
       "      <th>1938</th>\n",
       "      <td>Resort Hotel</td>\n",
       "      <td>0</td>\n",
       "      <td>PRT</td>\n",
       "      <td>Groups</td>\n",
       "      <td>Transient</td>\n",
       "      <td>0</td>\n",
       "      <td>0</td>\n",
       "      <td>0</td>\n",
       "      <td>0</td>\n",
       "      <td>0</td>\n",
       "      <td>1</td>\n",
       "    </tr>\n",
       "    <tr>\n",
       "      <th>1939</th>\n",
       "      <td>Resort Hotel</td>\n",
       "      <td>7</td>\n",
       "      <td>PRT</td>\n",
       "      <td>Corporate</td>\n",
       "      <td>Transient</td>\n",
       "      <td>0</td>\n",
       "      <td>0</td>\n",
       "      <td>0</td>\n",
       "      <td>0</td>\n",
       "      <td>0</td>\n",
       "      <td>0</td>\n",
       "    </tr>\n",
       "    <tr>\n",
       "      <th>1940</th>\n",
       "      <td>Resort Hotel</td>\n",
       "      <td>63</td>\n",
       "      <td>PRT</td>\n",
       "      <td>Direct</td>\n",
       "      <td>Transient</td>\n",
       "      <td>0</td>\n",
       "      <td>0</td>\n",
       "      <td>0</td>\n",
       "      <td>0</td>\n",
       "      <td>0</td>\n",
       "      <td>1</td>\n",
       "    </tr>\n",
       "  </tbody>\n",
       "</table>\n",
       "<p>1941 rows × 11 columns</p>\n",
       "</div>"
      ],
      "text/plain": [
       "             hotel  lead_time country market_segment customer_type  \\\n",
       "0     Resort Hotel        342     PRT         Direct     Transient   \n",
       "1     Resort Hotel        737     PRT         Direct     Transient   \n",
       "2     Resort Hotel          7     GBR         Direct     Transient   \n",
       "3     Resort Hotel         13     GBR      Corporate     Transient   \n",
       "4     Resort Hotel         14     GBR      Online TA     Transient   \n",
       "...            ...        ...     ...            ...           ...   \n",
       "1936  Resort Hotel        114     PRT         Groups      Contract   \n",
       "1937  Resort Hotel        114     PRT         Groups     Transient   \n",
       "1938  Resort Hotel          0     PRT         Groups     Transient   \n",
       "1939  Resort Hotel          7     PRT      Corporate     Transient   \n",
       "1940  Resort Hotel         63     PRT         Direct     Transient   \n",
       "\n",
       "      days_in_waiting_list  booking_changes  previous_cancellations  \\\n",
       "0                        0                3                       0   \n",
       "1                        0                4                       0   \n",
       "2                        0                0                       0   \n",
       "3                        0                0                       0   \n",
       "4                        0                0                       0   \n",
       "...                    ...              ...                     ...   \n",
       "1936                     0                0                       0   \n",
       "1937                     0                0                       0   \n",
       "1938                     0                0                       0   \n",
       "1939                     0                0                       0   \n",
       "1940                     0                0                       0   \n",
       "\n",
       "      previous_bookings_not_canceled  is_repeated_guest  is_canceled  \n",
       "0                                  0                  0            0  \n",
       "1                                  0                  0            0  \n",
       "2                                  0                  0            0  \n",
       "3                                  0                  0            0  \n",
       "4                                  0                  0            0  \n",
       "...                              ...                ...          ...  \n",
       "1936                               0                  0            0  \n",
       "1937                               0                  0            1  \n",
       "1938                               0                  0            1  \n",
       "1939                               0                  0            0  \n",
       "1940                               0                  0            1  \n",
       "\n",
       "[1941 rows x 11 columns]"
      ]
     },
     "execution_count": 28,
     "metadata": {},
     "output_type": "execute_result"
    }
   ],
   "source": [
    "Data_baru['is_canceled'] = y_predict\n",
    "Data_baru"
   ]
  },
  {
   "cell_type": "code",
   "execution_count": 29,
   "metadata": {},
   "outputs": [
    {
     "data": {
      "text/plain": [
       "is_canceled\n",
       "0    1087\n",
       "1     854\n",
       "Name: count, dtype: int64"
      ]
     },
     "execution_count": 29,
     "metadata": {},
     "output_type": "execute_result"
    }
   ],
   "source": [
    "Data_baru['is_canceled'].value_counts()"
   ]
  },
  {
   "cell_type": "markdown",
   "metadata": {},
   "source": [
    "Untuk prediksi data baru ditemukan yang tidak cancel sebanyak 1087 dan yang cancel 854"
   ]
  }
 ],
 "metadata": {
  "kernelspec": {
   "display_name": "Python 3",
   "language": "python",
   "name": "python3"
  },
  "language_info": {
   "codemirror_mode": {
    "name": "ipython",
    "version": 3
   },
   "file_extension": ".py",
   "mimetype": "text/x-python",
   "name": "python",
   "nbconvert_exporter": "python",
   "pygments_lexer": "ipython3",
   "version": "3.12.0"
  }
 },
 "nbformat": 4,
 "nbformat_minor": 2
}
